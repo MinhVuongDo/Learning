{
  "nbformat": 4,
  "nbformat_minor": 0,
  "metadata": {
    "colab": {
      "provenance": []
    },
    "kernelspec": {
      "name": "python3",
      "display_name": "Python 3"
    },
    "language_info": {
      "name": "python"
    }
  },
  "cells": [
    {
      "cell_type": "markdown",
      "source": [
        "#San Francisco Fire Calls"
      ],
      "metadata": {
        "id": "kReAf_Y8ybTB"
      }
    },
    {
      "cell_type": "code",
      "execution_count": 1,
      "metadata": {
        "colab": {
          "base_uri": "https://localhost:8080/"
        },
        "id": "t-F5XGiwyZJL",
        "outputId": "d4a918d5-ce10-4d19-ca83-f046d919af0f"
      },
      "outputs": [
        {
          "output_type": "stream",
          "name": "stdout",
          "text": [
            "Mounted at /content/drive\n"
          ]
        }
      ],
      "source": [
        "from google.colab import drive\n",
        "drive.mount('/content/drive')"
      ]
    },
    {
      "cell_type": "code",
      "source": [
        "!pip3 install pyspark"
      ],
      "metadata": {
        "colab": {
          "base_uri": "https://localhost:8080/"
        },
        "id": "Nl6XO30Bype1",
        "outputId": "32bcf935-5ea7-41f4-a1e6-031b37ba925c"
      },
      "execution_count": 2,
      "outputs": [
        {
          "output_type": "stream",
          "name": "stdout",
          "text": [
            "Looking in indexes: https://pypi.org/simple, https://us-python.pkg.dev/colab-wheels/public/simple/\n",
            "Collecting pyspark\n",
            "  Downloading pyspark-3.3.1.tar.gz (281.4 MB)\n",
            "\u001b[K     |████████████████████████████████| 281.4 MB 42 kB/s \n",
            "\u001b[?25hCollecting py4j==0.10.9.5\n",
            "  Downloading py4j-0.10.9.5-py2.py3-none-any.whl (199 kB)\n",
            "\u001b[K     |████████████████████████████████| 199 kB 43.5 MB/s \n",
            "\u001b[?25hBuilding wheels for collected packages: pyspark\n",
            "  Building wheel for pyspark (setup.py) ... \u001b[?25l\u001b[?25hdone\n",
            "  Created wheel for pyspark: filename=pyspark-3.3.1-py2.py3-none-any.whl size=281845514 sha256=03fbf9fd0f2e4bcd0aaa3866b7902f159a447082e2ba61283366bb8a6b641049\n",
            "  Stored in directory: /root/.cache/pip/wheels/42/59/f5/79a5bf931714dcd201b26025347785f087370a10a3329a899c\n",
            "Successfully built pyspark\n",
            "Installing collected packages: py4j, pyspark\n",
            "Successfully installed py4j-0.10.9.5 pyspark-3.3.1\n"
          ]
        }
      ]
    },
    {
      "cell_type": "code",
      "source": [
        "from pyspark.sql import SparkSession\n",
        "\n",
        "spark = SparkSession.builder.appName('dataApp').getOrCreate()"
      ],
      "metadata": {
        "id": "OpN2GwwIzRKQ"
      },
      "execution_count": 3,
      "outputs": []
    },
    {
      "cell_type": "code",
      "source": [
        "data_path = '/content/drive/MyDrive/Colab Notebooks/data/sf-fire/sf-fire-calls.csv'"
      ],
      "metadata": {
        "id": "IScZ5uMby4WK"
      },
      "execution_count": 4,
      "outputs": []
    },
    {
      "cell_type": "code",
      "source": [
        "from pyspark.sql.types import *\n",
        "from pyspark.sql.functions import *"
      ],
      "metadata": {
        "id": "tiQtYlS-za3s"
      },
      "execution_count": 5,
      "outputs": []
    },
    {
      "cell_type": "code",
      "source": [
        "fire_schema = StructType([StructField('CallNumber', IntegerType(), True),\n",
        "                     StructField('UnitID', StringType(), True),\n",
        "                     StructField('IncidentNumber', IntegerType(), True),\n",
        "                     StructField('CallType', StringType(), True),                  \n",
        "                     StructField('CallDate', StringType(), True),      \n",
        "                     StructField('WatchDate', StringType(), True),\n",
        "                     StructField('CallFinalDisposition', StringType(), True),\n",
        "                     StructField('AvailableDtTm', StringType(), True),\n",
        "                     StructField('Address', StringType(), True),       \n",
        "                     StructField('City', StringType(), True),       \n",
        "                     StructField('Zipcode', IntegerType(), True),       \n",
        "                     StructField('Battalion', StringType(), True),                 \n",
        "                     StructField('StationArea', StringType(), True),       \n",
        "                     StructField('Box', StringType(), True),       \n",
        "                     StructField('OriginalPriority', StringType(), True),       \n",
        "                     StructField('Priority', StringType(), True),       \n",
        "                     StructField('FinalPriority', IntegerType(), True),       \n",
        "                     StructField('ALSUnit', BooleanType(), True),       \n",
        "                     StructField('CallTypeGroup', StringType(), True),\n",
        "                     StructField('NumAlarms', IntegerType(), True),\n",
        "                     StructField('UnitType', StringType(), True),\n",
        "                     StructField('UnitSequenceInCallDispatch', IntegerType(), True),\n",
        "                     StructField('FirePreventionDistrict', StringType(), True),\n",
        "                     StructField('SupervisorDistrict', StringType(), True),\n",
        "                     StructField('Neighborhood', StringType(), True),\n",
        "                     StructField('Location', StringType(), True),\n",
        "                     StructField('RowID', StringType(), True),\n",
        "                     StructField('Delay', FloatType(), True)])"
      ],
      "metadata": {
        "id": "YEMpQHaqzQy_"
      },
      "execution_count": 6,
      "outputs": []
    },
    {
      "cell_type": "code",
      "source": [
        "fire_df = spark.read.csv(data_path, header=True, schema=fire_schema)"
      ],
      "metadata": {
        "id": "0yYLVWnJzdIP"
      },
      "execution_count": 8,
      "outputs": []
    },
    {
      "cell_type": "code",
      "source": [
        "fire_df.cache()"
      ],
      "metadata": {
        "colab": {
          "base_uri": "https://localhost:8080/"
        },
        "id": "oYmKW0o3zrO0",
        "outputId": "c984c61b-43d2-464f-d073-a7b26455ddd5"
      },
      "execution_count": 9,
      "outputs": [
        {
          "output_type": "execute_result",
          "data": {
            "text/plain": [
              "DataFrame[CallNumber: int, UnitID: string, IncidentNumber: int, CallType: string, CallDate: string, WatchDate: string, CallFinalDisposition: string, AvailableDtTm: string, Address: string, City: string, Zipcode: int, Battalion: string, StationArea: string, Box: string, OriginalPriority: string, Priority: string, FinalPriority: int, ALSUnit: boolean, CallTypeGroup: string, NumAlarms: int, UnitType: string, UnitSequenceInCallDispatch: int, FirePreventionDistrict: string, SupervisorDistrict: string, Neighborhood: string, Location: string, RowID: string, Delay: float]"
            ]
          },
          "metadata": {},
          "execution_count": 9
        }
      ]
    },
    {
      "cell_type": "code",
      "source": [
        "fire_df.count()"
      ],
      "metadata": {
        "colab": {
          "base_uri": "https://localhost:8080/"
        },
        "id": "ZNpwQ8O6zwFE",
        "outputId": "660266df-037e-4702-8975-46880f3c062a"
      },
      "execution_count": 10,
      "outputs": [
        {
          "output_type": "execute_result",
          "data": {
            "text/plain": [
              "175296"
            ]
          },
          "metadata": {},
          "execution_count": 10
        }
      ]
    },
    {
      "cell_type": "code",
      "source": [
        "fire_df.printSchema()"
      ],
      "metadata": {
        "colab": {
          "base_uri": "https://localhost:8080/"
        },
        "id": "Ev-JFRDezzim",
        "outputId": "d11bbae8-3a51-42a4-ea65-ae7c2c220e4d"
      },
      "execution_count": 11,
      "outputs": [
        {
          "output_type": "stream",
          "name": "stdout",
          "text": [
            "root\n",
            " |-- CallNumber: integer (nullable = true)\n",
            " |-- UnitID: string (nullable = true)\n",
            " |-- IncidentNumber: integer (nullable = true)\n",
            " |-- CallType: string (nullable = true)\n",
            " |-- CallDate: string (nullable = true)\n",
            " |-- WatchDate: string (nullable = true)\n",
            " |-- CallFinalDisposition: string (nullable = true)\n",
            " |-- AvailableDtTm: string (nullable = true)\n",
            " |-- Address: string (nullable = true)\n",
            " |-- City: string (nullable = true)\n",
            " |-- Zipcode: integer (nullable = true)\n",
            " |-- Battalion: string (nullable = true)\n",
            " |-- StationArea: string (nullable = true)\n",
            " |-- Box: string (nullable = true)\n",
            " |-- OriginalPriority: string (nullable = true)\n",
            " |-- Priority: string (nullable = true)\n",
            " |-- FinalPriority: integer (nullable = true)\n",
            " |-- ALSUnit: boolean (nullable = true)\n",
            " |-- CallTypeGroup: string (nullable = true)\n",
            " |-- NumAlarms: integer (nullable = true)\n",
            " |-- UnitType: string (nullable = true)\n",
            " |-- UnitSequenceInCallDispatch: integer (nullable = true)\n",
            " |-- FirePreventionDistrict: string (nullable = true)\n",
            " |-- SupervisorDistrict: string (nullable = true)\n",
            " |-- Neighborhood: string (nullable = true)\n",
            " |-- Location: string (nullable = true)\n",
            " |-- RowID: string (nullable = true)\n",
            " |-- Delay: float (nullable = true)\n",
            "\n"
          ]
        }
      ]
    },
    {
      "cell_type": "code",
      "source": [
        "display(fire_df.limit(5))"
      ],
      "metadata": {
        "colab": {
          "base_uri": "https://localhost:8080/",
          "height": 71
        },
        "id": "S1_tFlcFz5BQ",
        "outputId": "77b2234c-e5e1-4855-f30e-96f700066a2b"
      },
      "execution_count": 12,
      "outputs": [
        {
          "output_type": "display_data",
          "data": {
            "text/plain": [
              "DataFrame[CallNumber: int, UnitID: string, IncidentNumber: int, CallType: string, CallDate: string, WatchDate: string, CallFinalDisposition: string, AvailableDtTm: string, Address: string, City: string, Zipcode: int, Battalion: string, StationArea: string, Box: string, OriginalPriority: string, Priority: string, FinalPriority: int, ALSUnit: boolean, CallTypeGroup: string, NumAlarms: int, UnitType: string, UnitSequenceInCallDispatch: int, FirePreventionDistrict: string, SupervisorDistrict: string, Neighborhood: string, Location: string, RowID: string, Delay: float]"
            ]
          },
          "metadata": {}
        }
      ]
    },
    {
      "cell_type": "code",
      "source": [
        "few_fire_df = (fire_df\n",
        "               .select(\"IncidentNumber\", \"AvailableDtTm\", \"CallType\")\n",
        "               .where(col(\"CallType\") != \"Medical Incident\"))\n",
        "\n",
        "few_fire_df.show(5, truncate=False)"
      ],
      "metadata": {
        "colab": {
          "base_uri": "https://localhost:8080/"
        },
        "id": "QmWMyzMXz8mg",
        "outputId": "6010d237-bb83-4662-f296-e1066399e8df"
      },
      "execution_count": 13,
      "outputs": [
        {
          "output_type": "stream",
          "name": "stdout",
          "text": [
            "+--------------+----------------------+--------------+\n",
            "|IncidentNumber|AvailableDtTm         |CallType      |\n",
            "+--------------+----------------------+--------------+\n",
            "|2003235       |01/11/2002 01:51:44 AM|Structure Fire|\n",
            "|2003250       |01/11/2002 04:16:46 AM|Vehicle Fire  |\n",
            "|2003259       |01/11/2002 06:01:58 AM|Alarms        |\n",
            "|2003279       |01/11/2002 08:03:26 AM|Structure Fire|\n",
            "|2003301       |01/11/2002 09:46:44 AM|Alarms        |\n",
            "+--------------+----------------------+--------------+\n",
            "only showing top 5 rows\n",
            "\n"
          ]
        }
      ]
    },
    {
      "cell_type": "code",
      "source": [
        "fire_df.select(\"CallType\").where(col(\"CallType\").isNotNull()).distinct().count()"
      ],
      "metadata": {
        "colab": {
          "base_uri": "https://localhost:8080/"
        },
        "id": "KgEpAoabz-vk",
        "outputId": "783e50b2-946b-4964-c9b7-19dd66d5f220"
      },
      "execution_count": 14,
      "outputs": [
        {
          "output_type": "execute_result",
          "data": {
            "text/plain": [
              "30"
            ]
          },
          "metadata": {},
          "execution_count": 14
        }
      ]
    },
    {
      "cell_type": "code",
      "source": [
        "fire_df.select(\"CallType\").where(col(\"CallType\").isNotNull()).distinct().show(10, False)"
      ],
      "metadata": {
        "colab": {
          "base_uri": "https://localhost:8080/"
        },
        "id": "Vi_F7vWw0Bqi",
        "outputId": "c7607370-6154-4f77-c0d5-7b4c4bce9528"
      },
      "execution_count": 15,
      "outputs": [
        {
          "output_type": "stream",
          "name": "stdout",
          "text": [
            "+-----------------------------------+\n",
            "|CallType                           |\n",
            "+-----------------------------------+\n",
            "|Elevator / Escalator Rescue        |\n",
            "|Marine Fire                        |\n",
            "|Aircraft Emergency                 |\n",
            "|Confined Space / Structure Collapse|\n",
            "|Administrative                     |\n",
            "|Alarms                             |\n",
            "|Odor (Strange / Unknown)           |\n",
            "|Citizen Assist / Service Call      |\n",
            "|HazMat                             |\n",
            "|Watercraft in Distress             |\n",
            "+-----------------------------------+\n",
            "only showing top 10 rows\n",
            "\n"
          ]
        }
      ]
    },
    {
      "cell_type": "code",
      "source": [
        "new_fire_df = fire_df.withColumnRenamed(\"Delay\", \"ResponseDelayedinMins\")\n",
        "new_fire_df.select(\"ResponseDelayedinMins\").where(col(\"ResponseDelayedinMins\") > 5).show(5, False)"
      ],
      "metadata": {
        "colab": {
          "base_uri": "https://localhost:8080/"
        },
        "id": "Kl5VB78i0EX7",
        "outputId": "ad71e075-2fa6-4fdb-fc8c-3da4ef9ee2d9"
      },
      "execution_count": 16,
      "outputs": [
        {
          "output_type": "stream",
          "name": "stdout",
          "text": [
            "+---------------------+\n",
            "|ResponseDelayedinMins|\n",
            "+---------------------+\n",
            "|5.35                 |\n",
            "|6.25                 |\n",
            "|5.2                  |\n",
            "|5.6                  |\n",
            "|7.25                 |\n",
            "+---------------------+\n",
            "only showing top 5 rows\n",
            "\n"
          ]
        }
      ]
    },
    {
      "cell_type": "code",
      "source": [
        "fire_ts_df = (new_fire_df\n",
        "              .withColumn(\"IncidentDate\", to_timestamp(col(\"CallDate\"), \"MM/dd/yyyy\")).drop(\"CallDate\") \n",
        "              .withColumn(\"OnWatchDate\",   to_timestamp(col(\"WatchDate\"), \"MM/dd/yyyy\")).drop(\"WatchDate\")\n",
        "              .withColumn(\"AvailableDtTS\", to_timestamp(col(\"AvailableDtTm\"), \"MM/dd/yyyy hh:mm:ss a\")).drop(\"AvailableDtTm\"))   "
      ],
      "metadata": {
        "id": "KF4Y658A0TvD"
      },
      "execution_count": 17,
      "outputs": []
    },
    {
      "cell_type": "code",
      "source": [
        "fire_ts_df.cache()\n",
        "fire_ts_df.columns"
      ],
      "metadata": {
        "colab": {
          "base_uri": "https://localhost:8080/"
        },
        "id": "1T1xs-lj0V9t",
        "outputId": "188b43aa-130b-431f-dbb5-ba920e36f356"
      },
      "execution_count": 18,
      "outputs": [
        {
          "output_type": "execute_result",
          "data": {
            "text/plain": [
              "['CallNumber',\n",
              " 'UnitID',\n",
              " 'IncidentNumber',\n",
              " 'CallType',\n",
              " 'CallFinalDisposition',\n",
              " 'Address',\n",
              " 'City',\n",
              " 'Zipcode',\n",
              " 'Battalion',\n",
              " 'StationArea',\n",
              " 'Box',\n",
              " 'OriginalPriority',\n",
              " 'Priority',\n",
              " 'FinalPriority',\n",
              " 'ALSUnit',\n",
              " 'CallTypeGroup',\n",
              " 'NumAlarms',\n",
              " 'UnitType',\n",
              " 'UnitSequenceInCallDispatch',\n",
              " 'FirePreventionDistrict',\n",
              " 'SupervisorDistrict',\n",
              " 'Neighborhood',\n",
              " 'Location',\n",
              " 'RowID',\n",
              " 'ResponseDelayedinMins',\n",
              " 'IncidentDate',\n",
              " 'OnWatchDate',\n",
              " 'AvailableDtTS']"
            ]
          },
          "metadata": {},
          "execution_count": 18
        }
      ]
    },
    {
      "cell_type": "code",
      "source": [
        "fire_ts_df.select(\"IncidentDate\", \"OnWatchDate\", \"AvailableDtTS\").show(5, False)"
      ],
      "metadata": {
        "colab": {
          "base_uri": "https://localhost:8080/"
        },
        "id": "ByNcdj0N0Znv",
        "outputId": "0faed50b-e6e3-49de-e93e-add032b6701b"
      },
      "execution_count": 19,
      "outputs": [
        {
          "output_type": "stream",
          "name": "stdout",
          "text": [
            "+-------------------+-------------------+-------------------+\n",
            "|IncidentDate       |OnWatchDate        |AvailableDtTS      |\n",
            "+-------------------+-------------------+-------------------+\n",
            "|2002-01-11 00:00:00|2002-01-10 00:00:00|2002-01-11 01:51:44|\n",
            "|2002-01-11 00:00:00|2002-01-10 00:00:00|2002-01-11 03:01:18|\n",
            "|2002-01-11 00:00:00|2002-01-10 00:00:00|2002-01-11 02:39:50|\n",
            "|2002-01-11 00:00:00|2002-01-10 00:00:00|2002-01-11 04:16:46|\n",
            "|2002-01-11 00:00:00|2002-01-10 00:00:00|2002-01-11 06:01:58|\n",
            "+-------------------+-------------------+-------------------+\n",
            "only showing top 5 rows\n",
            "\n"
          ]
        }
      ]
    },
    {
      "cell_type": "code",
      "source": [
        "(fire_ts_df\n",
        " .select(\"CallType\").where(col(\"CallType\").isNotNull())\n",
        " .groupBy(\"CallType\")\n",
        " .count()\n",
        " .orderBy(\"count\", ascending=False)\n",
        " .show(n=10, truncate=False))"
      ],
      "metadata": {
        "colab": {
          "base_uri": "https://localhost:8080/"
        },
        "id": "qtstGZXu0jVa",
        "outputId": "f85d8a7b-eb24-4a0e-8601-66a8f0e31b9d"
      },
      "execution_count": 20,
      "outputs": [
        {
          "output_type": "stream",
          "name": "stdout",
          "text": [
            "+-------------------------------+------+\n",
            "|CallType                       |count |\n",
            "+-------------------------------+------+\n",
            "|Medical Incident               |113794|\n",
            "|Structure Fire                 |23319 |\n",
            "|Alarms                         |19406 |\n",
            "|Traffic Collision              |7013  |\n",
            "|Citizen Assist / Service Call  |2524  |\n",
            "|Other                          |2166  |\n",
            "|Outside Fire                   |2094  |\n",
            "|Vehicle Fire                   |854   |\n",
            "|Gas Leak (Natural and LP Gases)|764   |\n",
            "|Water Rescue                   |755   |\n",
            "+-------------------------------+------+\n",
            "only showing top 10 rows\n",
            "\n"
          ]
        }
      ]
    },
    {
      "cell_type": "code",
      "source": [
        "(fire_ts_df\n",
        " .select(\"CallType\", \"ZipCode\")\n",
        " .where(col(\"CallType\").isNotNull())\n",
        " .groupBy(\"CallType\", \"Zipcode\")\n",
        " .count()\n",
        " .orderBy(\"count\", ascending=False)\n",
        " .show(10, truncate=False))"
      ],
      "metadata": {
        "colab": {
          "base_uri": "https://localhost:8080/"
        },
        "id": "9XCWDx2c0nlu",
        "outputId": "1e9483ad-785a-43af-f851-2d577e435059"
      },
      "execution_count": 21,
      "outputs": [
        {
          "output_type": "stream",
          "name": "stdout",
          "text": [
            "+----------------+-------+-----+\n",
            "|CallType        |Zipcode|count|\n",
            "+----------------+-------+-----+\n",
            "|Medical Incident|94102  |16130|\n",
            "|Medical Incident|94103  |14775|\n",
            "|Medical Incident|94110  |9995 |\n",
            "|Medical Incident|94109  |9479 |\n",
            "|Medical Incident|94124  |5885 |\n",
            "|Medical Incident|94112  |5630 |\n",
            "|Medical Incident|94115  |4785 |\n",
            "|Medical Incident|94122  |4323 |\n",
            "|Medical Incident|94107  |4284 |\n",
            "|Medical Incident|94133  |3977 |\n",
            "+----------------+-------+-----+\n",
            "only showing top 10 rows\n",
            "\n"
          ]
        }
      ]
    },
    {
      "cell_type": "code",
      "source": [
        "fire_ts_df.select(\"Neighborhood\", \"Zipcode\").where((col(\"Zipcode\") == 94102) | (col(\"Zipcode\") == 94103)).distinct().show(10, truncate=False)"
      ],
      "metadata": {
        "colab": {
          "base_uri": "https://localhost:8080/"
        },
        "id": "2OSQ64S60sV4",
        "outputId": "b526c0ea-e28d-4fca-a0ab-7a7a6eea58d6"
      },
      "execution_count": 22,
      "outputs": [
        {
          "output_type": "stream",
          "name": "stdout",
          "text": [
            "+------------------------------+-------+\n",
            "|Neighborhood                  |Zipcode|\n",
            "+------------------------------+-------+\n",
            "|Potrero Hill                  |94103  |\n",
            "|Western Addition              |94102  |\n",
            "|Tenderloin                    |94102  |\n",
            "|Nob Hill                      |94102  |\n",
            "|Castro/Upper Market           |94103  |\n",
            "|South of Market               |94102  |\n",
            "|South of Market               |94103  |\n",
            "|Hayes Valley                  |94103  |\n",
            "|Financial District/South Beach|94102  |\n",
            "|Mission Bay                   |94103  |\n",
            "+------------------------------+-------+\n",
            "only showing top 10 rows\n",
            "\n"
          ]
        }
      ]
    },
    {
      "cell_type": "code",
      "source": [
        "fire_ts_df.select(sum(\"NumAlarms\"), avg(\"ResponseDelayedinMins\"), min(\"ResponseDelayedinMins\"), max(\"ResponseDelayedinMins\")).show()"
      ],
      "metadata": {
        "colab": {
          "base_uri": "https://localhost:8080/"
        },
        "id": "YuCIYmCQ0vSB",
        "outputId": "0ca69241-ad41-4ff3-8122-c492caf82c1d"
      },
      "execution_count": 23,
      "outputs": [
        {
          "output_type": "stream",
          "name": "stdout",
          "text": [
            "+--------------+--------------------------+--------------------------+--------------------------+\n",
            "|sum(NumAlarms)|avg(ResponseDelayedinMins)|min(ResponseDelayedinMins)|max(ResponseDelayedinMins)|\n",
            "+--------------+--------------------------+--------------------------+--------------------------+\n",
            "|        176170|         3.892364154521585|               0.016666668|                   1844.55|\n",
            "+--------------+--------------------------+--------------------------+--------------------------+\n",
            "\n"
          ]
        }
      ]
    },
    {
      "cell_type": "code",
      "source": [
        "fire_ts_df.select(year(\"IncidentDate\")).distinct().orderBy(year(\"IncidentDate\")).show()"
      ],
      "metadata": {
        "colab": {
          "base_uri": "https://localhost:8080/"
        },
        "id": "hIW-H6oY0y9S",
        "outputId": "60f8e1cd-0b05-4282-e9e3-696d4cfe2506"
      },
      "execution_count": 24,
      "outputs": [
        {
          "output_type": "stream",
          "name": "stdout",
          "text": [
            "+------------------+\n",
            "|year(IncidentDate)|\n",
            "+------------------+\n",
            "|              2000|\n",
            "|              2001|\n",
            "|              2002|\n",
            "|              2003|\n",
            "|              2004|\n",
            "|              2005|\n",
            "|              2006|\n",
            "|              2007|\n",
            "|              2008|\n",
            "|              2009|\n",
            "|              2010|\n",
            "|              2011|\n",
            "|              2012|\n",
            "|              2013|\n",
            "|              2014|\n",
            "|              2015|\n",
            "|              2016|\n",
            "|              2017|\n",
            "|              2018|\n",
            "+------------------+\n",
            "\n"
          ]
        }
      ]
    },
    {
      "cell_type": "code",
      "source": [
        "fire_ts_df.filter(year(\"IncidentDate\") == 2018).groupBy(weekofyear(\"IncidentDate\")).count().orderBy(\"count\", ascending=False).show()"
      ],
      "metadata": {
        "colab": {
          "base_uri": "https://localhost:8080/"
        },
        "id": "9DVzCMhU1R_v",
        "outputId": "dad2364f-5cd6-40aa-ba9b-8d39ac07e211"
      },
      "execution_count": 25,
      "outputs": [
        {
          "output_type": "stream",
          "name": "stdout",
          "text": [
            "+------------------------+-----+\n",
            "|weekofyear(IncidentDate)|count|\n",
            "+------------------------+-----+\n",
            "|                      22|  259|\n",
            "|                      40|  255|\n",
            "|                      43|  250|\n",
            "|                      25|  249|\n",
            "|                       1|  246|\n",
            "|                      44|  244|\n",
            "|                      13|  243|\n",
            "|                      32|  243|\n",
            "|                      11|  240|\n",
            "|                       5|  236|\n",
            "|                      18|  236|\n",
            "|                      23|  235|\n",
            "|                      42|  234|\n",
            "|                       2|  234|\n",
            "|                      31|  234|\n",
            "|                      19|  233|\n",
            "|                      34|  232|\n",
            "|                       8|  232|\n",
            "|                      10|  232|\n",
            "|                      28|  231|\n",
            "+------------------------+-----+\n",
            "only showing top 20 rows\n",
            "\n"
          ]
        }
      ]
    },
    {
      "cell_type": "code",
      "source": [
        "fire_ts_df.select(\"Neighborhood\", \"ResponseDelayedinMins\").filter(year(\"IncidentDate\") == 2018).show(10, False)"
      ],
      "metadata": {
        "colab": {
          "base_uri": "https://localhost:8080/"
        },
        "id": "Fykgkzwy1Vod",
        "outputId": "d1ce57f9-eda6-402c-d69f-a3e416677218"
      },
      "execution_count": 26,
      "outputs": [
        {
          "output_type": "stream",
          "name": "stdout",
          "text": [
            "+------------------------------+---------------------+\n",
            "|Neighborhood                  |ResponseDelayedinMins|\n",
            "+------------------------------+---------------------+\n",
            "|Presidio Heights              |2.8833334            |\n",
            "|Mission Bay                   |6.3333335            |\n",
            "|Chinatown                     |2.65                 |\n",
            "|Financial District/South Beach|3.5333333            |\n",
            "|Tenderloin                    |1.1                  |\n",
            "|Bayview Hunters Point         |4.05                 |\n",
            "|Inner Richmond                |2.5666666            |\n",
            "|Inner Sunset                  |1.4                  |\n",
            "|Sunset/Parkside               |2.6666667            |\n",
            "|South of Market               |1.7666667            |\n",
            "+------------------------------+---------------------+\n",
            "only showing top 10 rows\n",
            "\n"
          ]
        }
      ]
    },
    {
      "cell_type": "code",
      "source": [],
      "metadata": {
        "id": "fSGmu9Xi1bYf"
      },
      "execution_count": null,
      "outputs": []
    }
  ]
}