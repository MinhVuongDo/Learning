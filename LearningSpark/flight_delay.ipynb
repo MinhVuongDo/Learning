{
  "nbformat": 4,
  "nbformat_minor": 0,
  "metadata": {
    "colab": {
      "provenance": []
    },
    "kernelspec": {
      "name": "python3",
      "display_name": "Python 3"
    },
    "language_info": {
      "name": "python"
    }
  },
  "cells": [
    {
      "cell_type": "code",
      "execution_count": null,
      "metadata": {
        "colab": {
          "base_uri": "https://localhost:8080/"
        },
        "id": "POShxAWFXDxJ",
        "outputId": "bb112ff8-db10-41ae-bb2c-811eedb07721"
      },
      "outputs": [
        {
          "output_type": "stream",
          "name": "stdout",
          "text": [
            "Mounted at /content/drive\n"
          ]
        }
      ],
      "source": [
        "from google.colab import drive\n",
        "drive.mount('/content/drive')"
      ]
    },
    {
      "cell_type": "code",
      "source": [
        "!pip install pyspark==3.0.1 py4j==0.10.9 "
      ],
      "metadata": {
        "colab": {
          "base_uri": "https://localhost:8080/"
        },
        "id": "2HdpGfSFZ7rN",
        "outputId": "10a37777-fb5a-479c-da62-69ed12e3fe3f"
      },
      "execution_count": null,
      "outputs": [
        {
          "output_type": "stream",
          "name": "stdout",
          "text": [
            "Looking in indexes: https://pypi.org/simple, https://us-python.pkg.dev/colab-wheels/public/simple/\n",
            "Collecting pyspark==3.0.1\n",
            "  Downloading pyspark-3.0.1.tar.gz (204.2 MB)\n",
            "\u001b[K     |████████████████████████████████| 204.2 MB 33 kB/s \n",
            "\u001b[?25hCollecting py4j==0.10.9\n",
            "  Downloading py4j-0.10.9-py2.py3-none-any.whl (198 kB)\n",
            "\u001b[K     |████████████████████████████████| 198 kB 41.5 MB/s \n",
            "\u001b[?25hBuilding wheels for collected packages: pyspark\n",
            "  Building wheel for pyspark (setup.py) ... \u001b[?25l\u001b[?25hdone\n",
            "  Created wheel for pyspark: filename=pyspark-3.0.1-py2.py3-none-any.whl size=204612243 sha256=19eec3d752d78abc182d07ec9bac2315bce7d920f1e7ec7660680f8405724326\n",
            "  Stored in directory: /root/.cache/pip/wheels/5e/34/fa/b37b5cef503fc5148b478b2495043ba61b079120b7ff379f9b\n",
            "Successfully built pyspark\n",
            "Installing collected packages: py4j, pyspark\n",
            "Successfully installed py4j-0.10.9 pyspark-3.0.1\n"
          ]
        }
      ]
    },
    {
      "cell_type": "markdown",
      "source": [
        "#Khởi tạo SparkSession "
      ],
      "metadata": {
        "id": "UPD1J1Fhplls"
      }
    },
    {
      "cell_type": "code",
      "source": [
        "from pyspark.sql import SparkSession\n",
        "my_spark = SparkSession.builder.appName('flight').getOrCreate()\n",
        "my_spark"
      ],
      "metadata": {
        "colab": {
          "base_uri": "https://localhost:8080/",
          "height": 222
        },
        "id": "BgRnjlkOap1-",
        "outputId": "33078054-2c5c-4370-f86e-7d58b63a2025"
      },
      "execution_count": null,
      "outputs": [
        {
          "output_type": "execute_result",
          "data": {
            "text/plain": [
              "<pyspark.sql.session.SparkSession at 0x7f46fbe896d0>"
            ],
            "text/html": [
              "\n",
              "            <div>\n",
              "                <p><b>SparkSession - in-memory</b></p>\n",
              "                \n",
              "        <div>\n",
              "            <p><b>SparkContext</b></p>\n",
              "\n",
              "            <p><a href=\"http://b0bb84b2af37:4040\">Spark UI</a></p>\n",
              "\n",
              "            <dl>\n",
              "              <dt>Version</dt>\n",
              "                <dd><code>v3.0.1</code></dd>\n",
              "              <dt>Master</dt>\n",
              "                <dd><code>local[*]</code></dd>\n",
              "              <dt>AppName</dt>\n",
              "                <dd><code>flight</code></dd>\n",
              "            </dl>\n",
              "        </div>\n",
              "        \n",
              "            </div>\n",
              "        "
            ]
          },
          "metadata": {},
          "execution_count": 3
        }
      ]
    },
    {
      "cell_type": "code",
      "source": [
        "my_spark.catalog.listTables()"
      ],
      "metadata": {
        "colab": {
          "base_uri": "https://localhost:8080/"
        },
        "id": "LKl8TLUmbZn3",
        "outputId": "f18a4992-5cca-4a1e-d2aa-73b4dbb7ea1a"
      },
      "execution_count": null,
      "outputs": [
        {
          "output_type": "execute_result",
          "data": {
            "text/plain": [
              "[]"
            ]
          },
          "metadata": {},
          "execution_count": 4
        }
      ]
    },
    {
      "cell_type": "code",
      "source": [
        "data_path = '/content/drive/MyDrive/flights.csv'"
      ],
      "metadata": {
        "id": "HhaiCpaMcnJS"
      },
      "execution_count": null,
      "outputs": []
    },
    {
      "cell_type": "code",
      "source": [
        "flights = my_spark.read.csv(data_path, header=True)"
      ],
      "metadata": {
        "id": "0sNPz4sfbh0A"
      },
      "execution_count": null,
      "outputs": []
    },
    {
      "cell_type": "code",
      "source": [
        "flights.show(5)"
      ],
      "metadata": {
        "colab": {
          "base_uri": "https://localhost:8080/"
        },
        "id": "qWWM36IadwTC",
        "outputId": "ce8305c4-8de1-4112-cf08-baf9487a3372"
      },
      "execution_count": null,
      "outputs": [
        {
          "output_type": "stream",
          "name": "stdout",
          "text": [
            "+----+-----+---+-----------+-------+-------------+-----------+--------------+-------------------+-------------------+--------------+---------------+--------+----------+--------------+------------+--------+--------+---------+-------+-----------------+------------+-------------+--------+---------+-------------------+----------------+--------------+-------------+-------------------+-------------+\n",
            "|YEAR|MONTH|DAY|DAY_OF_WEEK|AIRLINE|FLIGHT_NUMBER|TAIL_NUMBER|ORIGIN_AIRPORT|DESTINATION_AIRPORT|SCHEDULED_DEPARTURE|DEPARTURE_TIME|DEPARTURE_DELAY|TAXI_OUT|WHEELS_OFF|SCHEDULED_TIME|ELAPSED_TIME|AIR_TIME|DISTANCE|WHEELS_ON|TAXI_IN|SCHEDULED_ARRIVAL|ARRIVAL_TIME|ARRIVAL_DELAY|DIVERTED|CANCELLED|CANCELLATION_REASON|AIR_SYSTEM_DELAY|SECURITY_DELAY|AIRLINE_DELAY|LATE_AIRCRAFT_DELAY|WEATHER_DELAY|\n",
            "+----+-----+---+-----------+-------+-------------+-----------+--------------+-------------------+-------------------+--------------+---------------+--------+----------+--------------+------------+--------+--------+---------+-------+-----------------+------------+-------------+--------+---------+-------------------+----------------+--------------+-------------+-------------------+-------------+\n",
            "|2015|    1|  1|          4|     AS|           98|     N407AS|           ANC|                SEA|               0005|          2354|            -11|      21|      0015|           205|         194|     169|    1448|     0404|      4|             0430|        0408|          -22|       0|        0|               null|            null|          null|         null|               null|         null|\n",
            "|2015|    1|  1|          4|     AA|         2336|     N3KUAA|           LAX|                PBI|               0010|          0002|             -8|      12|      0014|           280|         279|     263|    2330|     0737|      4|             0750|        0741|           -9|       0|        0|               null|            null|          null|         null|               null|         null|\n",
            "|2015|    1|  1|          4|     US|          840|     N171US|           SFO|                CLT|               0020|          0018|             -2|      16|      0034|           286|         293|     266|    2296|     0800|     11|             0806|        0811|            5|       0|        0|               null|            null|          null|         null|               null|         null|\n",
            "|2015|    1|  1|          4|     AA|          258|     N3HYAA|           LAX|                MIA|               0020|          0015|             -5|      15|      0030|           285|         281|     258|    2342|     0748|      8|             0805|        0756|           -9|       0|        0|               null|            null|          null|         null|               null|         null|\n",
            "|2015|    1|  1|          4|     AS|          135|     N527AS|           SEA|                ANC|               0025|          0024|             -1|      11|      0035|           235|         215|     199|    1448|     0254|      5|             0320|        0259|          -21|       0|        0|               null|            null|          null|         null|               null|         null|\n",
            "+----+-----+---+-----------+-------+-------------+-----------+--------------+-------------------+-------------------+--------------+---------------+--------+----------+--------------+------------+--------+--------+---------+-------+-----------------+------------+-------------+--------+---------+-------------------+----------------+--------------+-------------+-------------------+-------------+\n",
            "only showing top 5 rows\n",
            "\n"
          ]
        }
      ]
    },
    {
      "cell_type": "code",
      "source": [
        "flights.printSchema()"
      ],
      "metadata": {
        "colab": {
          "base_uri": "https://localhost:8080/"
        },
        "id": "juyZnI-vd6Gn",
        "outputId": "afcc7a37-89b0-4a40-9cfc-e974fa0f16f3"
      },
      "execution_count": null,
      "outputs": [
        {
          "output_type": "stream",
          "name": "stdout",
          "text": [
            "root\n",
            " |-- YEAR: string (nullable = true)\n",
            " |-- MONTH: string (nullable = true)\n",
            " |-- DAY: string (nullable = true)\n",
            " |-- DAY_OF_WEEK: string (nullable = true)\n",
            " |-- AIRLINE: string (nullable = true)\n",
            " |-- FLIGHT_NUMBER: string (nullable = true)\n",
            " |-- TAIL_NUMBER: string (nullable = true)\n",
            " |-- ORIGIN_AIRPORT: string (nullable = true)\n",
            " |-- DESTINATION_AIRPORT: string (nullable = true)\n",
            " |-- SCHEDULED_DEPARTURE: string (nullable = true)\n",
            " |-- DEPARTURE_TIME: string (nullable = true)\n",
            " |-- DEPARTURE_DELAY: string (nullable = true)\n",
            " |-- TAXI_OUT: string (nullable = true)\n",
            " |-- WHEELS_OFF: string (nullable = true)\n",
            " |-- SCHEDULED_TIME: string (nullable = true)\n",
            " |-- ELAPSED_TIME: string (nullable = true)\n",
            " |-- AIR_TIME: string (nullable = true)\n",
            " |-- DISTANCE: string (nullable = true)\n",
            " |-- WHEELS_ON: string (nullable = true)\n",
            " |-- TAXI_IN: string (nullable = true)\n",
            " |-- SCHEDULED_ARRIVAL: string (nullable = true)\n",
            " |-- ARRIVAL_TIME: string (nullable = true)\n",
            " |-- ARRIVAL_DELAY: string (nullable = true)\n",
            " |-- DIVERTED: string (nullable = true)\n",
            " |-- CANCELLED: string (nullable = true)\n",
            " |-- CANCELLATION_REASON: string (nullable = true)\n",
            " |-- AIR_SYSTEM_DELAY: string (nullable = true)\n",
            " |-- SECURITY_DELAY: string (nullable = true)\n",
            " |-- AIRLINE_DELAY: string (nullable = true)\n",
            " |-- LATE_AIRCRAFT_DELAY: string (nullable = true)\n",
            " |-- WEATHER_DELAY: string (nullable = true)\n",
            "\n"
          ]
        }
      ]
    },
    {
      "cell_type": "code",
      "source": [
        "print(my_spark.catalog.listTables())"
      ],
      "metadata": {
        "colab": {
          "base_uri": "https://localhost:8080/"
        },
        "id": "ylNOFO7-eBGD",
        "outputId": "3d3b359a-c9c7-4635-e922-43d16aece889"
      },
      "execution_count": null,
      "outputs": [
        {
          "output_type": "stream",
          "name": "stdout",
          "text": [
            "[]\n"
          ]
        }
      ]
    },
    {
      "cell_type": "code",
      "source": [
        "flights.createOrReplaceTempView('flights_temp')\n",
        "my_spark.catalog.listTables()"
      ],
      "metadata": {
        "colab": {
          "base_uri": "https://localhost:8080/"
        },
        "id": "X0RL0imneT-n",
        "outputId": "88915e82-397b-4a74-84a7-460a5cb30321"
      },
      "execution_count": null,
      "outputs": [
        {
          "output_type": "execute_result",
          "data": {
            "text/plain": [
              "[Table(name='flights_temp', database=None, description=None, tableType='TEMPORARY', isTemporary=True)]"
            ]
          },
          "metadata": {},
          "execution_count": 10
        }
      ]
    },
    {
      "cell_type": "markdown",
      "source": [
        "#Các lệnh biến đổi dữ liệu của Spark DataFrame \n",
        "- <b>.withColumn(“newColumnName”, formular):</b><br> Thêm một trường mới vào một bảng sẵn có. Gồm 2 tham số chính, tham số thứ nhất là tên trường mới, tham số thứ 2 là công thức cập nhật tên trường. Lưu ý rằng spark DataFrame là một dạng dữ liệu immutable (không thể modified được). Do đó ta không thể inplace update (như các hàm fillna() hoặc replace() của pandas dataframe) mà cần phải gán giá trị trả về vào chính tên bảng ban đầu để cập nhật trường mới.<br>\n",
        "- <b>.withColumnRenamed(“oldColumnName”, “newColumnName”):</b><br> Đổi tên của một column name trong pandas DataFrame.<br>\n",
        "\n",
        "- <b>.select(“column1”, “column2”, … , “columnt”, formular):</b><br> Lựa chọn danh sách các trường trong spark DataFrame thông qua các tên column được truyền vào đưới dạng string và tạo ra một trường mới thông qua formular. Lưu ý để đặt tên cho trường mới ứng với formular chúng ta sẽ cần sử dụng hàm formula.alias(\"columnName\").\n",
        "- <b>.selectExpr(“column1”, “column2”, … , “columnt”, “formularExpr”)</b>: Hoàn toàn tương tự như .select() nhưng tham số formular được thay thế bằng chuỗi string biểu diễn công thức như trong câu lệnh SQL.\n",
        "- .filter(condition): Lọc một bảng theo một điều kiện nào đó. Condition có thể làm một string expression biểu diễn công thức lọc hoặc một công thức giữa các trường trong spark DataFrame. Lưu ý Condition phải trả về một trường dạng Boolean type.\n",
        "- <b>.groupBy(“column1”, “column2”,…,”columnt”)</b>: Tương tự như lệnh GROUP BY của SQL, lệnh này sẽ nhóm các biến theo các dimension được truyền vào groupBy. Theo sau lệnh groupBy() là một build-in function của spark DataFrame được sử dụng để tính toán theo một biến đo lường nào đó chẳng hạn như hàm avg(), min(), max(), sum(). Tham số được truyền vào các hàm này chính là tên biến đo lường.\n",
        "- <b>.join(tableName, on = “columnNameJoin”, how = “leftouter”)</b>: Join 2 bảng với nhau tương tự như lệnh left join trong SQL. Kết quả trả về sẽ là các trường mới trong bảng tableName kết hợp với các trường cũ trong bảng gốc thông qua key là. Lưu ý rằng columnNameJoin phải trùng nhau giữa 2 bảng."
      ],
      "metadata": {
        "id": "jz7qfkiLe9u8"
      }
    },
    {
      "cell_type": "code",
      "source": [
        "flights = flights.withColumn('HOUR_ARR', flights.AIR_TIME/60)\n",
        "flights.printSchema()"
      ],
      "metadata": {
        "colab": {
          "base_uri": "https://localhost:8080/"
        },
        "id": "nLNlt5maez-9",
        "outputId": "df35d311-03bf-4d81-cce6-625ce335746d"
      },
      "execution_count": null,
      "outputs": [
        {
          "output_type": "stream",
          "name": "stdout",
          "text": [
            "root\n",
            " |-- YEAR: string (nullable = true)\n",
            " |-- MONTH: string (nullable = true)\n",
            " |-- DAY: string (nullable = true)\n",
            " |-- DAY_OF_WEEK: string (nullable = true)\n",
            " |-- AIRLINE: string (nullable = true)\n",
            " |-- FLIGHT_NUMBER: string (nullable = true)\n",
            " |-- TAIL_NUMBER: string (nullable = true)\n",
            " |-- ORIGIN_AIRPORT: string (nullable = true)\n",
            " |-- DESTINATION_AIRPORT: string (nullable = true)\n",
            " |-- SCHEDULED_DEPARTURE: string (nullable = true)\n",
            " |-- DEPARTURE_TIME: string (nullable = true)\n",
            " |-- DEPARTURE_DELAY: string (nullable = true)\n",
            " |-- TAXI_OUT: string (nullable = true)\n",
            " |-- WHEELS_OFF: string (nullable = true)\n",
            " |-- SCHEDULED_TIME: string (nullable = true)\n",
            " |-- ELAPSED_TIME: string (nullable = true)\n",
            " |-- AIR_TIME: string (nullable = true)\n",
            " |-- DISTANCE: string (nullable = true)\n",
            " |-- WHEELS_ON: string (nullable = true)\n",
            " |-- TAXI_IN: string (nullable = true)\n",
            " |-- SCHEDULED_ARRIVAL: string (nullable = true)\n",
            " |-- ARRIVAL_TIME: string (nullable = true)\n",
            " |-- ARRIVAL_DELAY: string (nullable = true)\n",
            " |-- DIVERTED: string (nullable = true)\n",
            " |-- CANCELLED: string (nullable = true)\n",
            " |-- CANCELLATION_REASON: string (nullable = true)\n",
            " |-- AIR_SYSTEM_DELAY: string (nullable = true)\n",
            " |-- SECURITY_DELAY: string (nullable = true)\n",
            " |-- AIRLINE_DELAY: string (nullable = true)\n",
            " |-- LATE_AIRCRAFT_DELAY: string (nullable = true)\n",
            " |-- WEATHER_DELAY: string (nullable = true)\n",
            " |-- HOUR_ARR: double (nullable = true)\n",
            "\n"
          ]
        }
      ]
    },
    {
      "cell_type": "code",
      "source": [
        "avg_speed = flights.select(\"ORIGIN_AIRPORT\", \"DESTINATION_AIRPORT\", \"TAIL_NUMBER\", (flights.DISTANCE/flights.HOUR_ARR).alias(\"avg_speed\"))\n",
        "avg_speed.printSchema()\n",
        "avg_speed.show(5)"
      ],
      "metadata": {
        "colab": {
          "base_uri": "https://localhost:8080/"
        },
        "id": "DVu3EyO2fSBN",
        "outputId": "4313dc47-4478-4334-be14-debbdd6995a3"
      },
      "execution_count": null,
      "outputs": [
        {
          "output_type": "stream",
          "name": "stdout",
          "text": [
            "root\n",
            " |-- ORIGIN_AIRPORT: string (nullable = true)\n",
            " |-- DESTINATION_AIRPORT: string (nullable = true)\n",
            " |-- TAIL_NUMBER: string (nullable = true)\n",
            " |-- avg_speed: double (nullable = true)\n",
            "\n",
            "+--------------+-------------------+-----------+-----------------+\n",
            "|ORIGIN_AIRPORT|DESTINATION_AIRPORT|TAIL_NUMBER|        avg_speed|\n",
            "+--------------+-------------------+-----------+-----------------+\n",
            "|           ANC|                SEA|     N407AS|514.0828402366864|\n",
            "|           LAX|                PBI|     N3KUAA|531.5589353612166|\n",
            "|           SFO|                CLT|     N171US|517.8947368421052|\n",
            "|           LAX|                MIA|     N3HYAA|544.6511627906978|\n",
            "|           SEA|                ANC|     N527AS|436.5829145728643|\n",
            "+--------------+-------------------+-----------+-----------------+\n",
            "only showing top 5 rows\n",
            "\n"
          ]
        }
      ]
    },
    {
      "cell_type": "code",
      "source": [
        "avg_speed_exp = flights.selectExpr(\"ORIGIN_AIRPORT\", \"DESTINATION_AIRPORT\", \"TAIL_NUMBER\", \"(DISTANCE/HOUR_ARR) AS avg_speed\")\n",
        "avg_speed_exp.printSchema()\n",
        "avg_speed_exp.show(5)"
      ],
      "metadata": {
        "colab": {
          "base_uri": "https://localhost:8080/"
        },
        "id": "GjDzuAQngNmo",
        "outputId": "f9ef8c2d-4e23-4946-abf8-ae529a8c30e2"
      },
      "execution_count": null,
      "outputs": [
        {
          "output_type": "stream",
          "name": "stdout",
          "text": [
            "root\n",
            " |-- ORIGIN_AIRPORT: string (nullable = true)\n",
            " |-- DESTINATION_AIRPORT: string (nullable = true)\n",
            " |-- TAIL_NUMBER: string (nullable = true)\n",
            " |-- avg_speed: double (nullable = true)\n",
            "\n",
            "+--------------+-------------------+-----------+-----------------+\n",
            "|ORIGIN_AIRPORT|DESTINATION_AIRPORT|TAIL_NUMBER|        avg_speed|\n",
            "+--------------+-------------------+-----------+-----------------+\n",
            "|           ANC|                SEA|     N407AS|514.0828402366864|\n",
            "|           LAX|                PBI|     N3KUAA|531.5589353612166|\n",
            "|           SFO|                CLT|     N171US|517.8947368421052|\n",
            "|           LAX|                MIA|     N3HYAA|544.6511627906978|\n",
            "|           SEA|                ANC|     N527AS|436.5829145728643|\n",
            "+--------------+-------------------+-----------+-----------------+\n",
            "only showing top 5 rows\n",
            "\n"
          ]
        }
      ]
    },
    {
      "cell_type": "code",
      "source": [
        "filter_SEA_ANC = flights.filter(\"ORIGIN_AIRPORT == 'SEA'\") \\\n",
        "                        .filter(\"DESTINATION_AIRPORT == 'ANC'\")\n",
        "filter_SEA_ANC.show(5)"
      ],
      "metadata": {
        "colab": {
          "base_uri": "https://localhost:8080/"
        },
        "id": "DTBoM_2Yhzob",
        "outputId": "96425858-5c52-4a61-b359-f2a4b80513af"
      },
      "execution_count": null,
      "outputs": [
        {
          "output_type": "stream",
          "name": "stdout",
          "text": [
            "+----+-----+---+-----------+-------+-------------+-----------+--------------+-------------------+-------------------+--------------+---------------+--------+----------+--------------+------------+--------+--------+---------+-------+-----------------+------------+-------------+--------+---------+-------------------+----------------+--------------+-------------+-------------------+-------------+------------------+\n",
            "|YEAR|MONTH|DAY|DAY_OF_WEEK|AIRLINE|FLIGHT_NUMBER|TAIL_NUMBER|ORIGIN_AIRPORT|DESTINATION_AIRPORT|SCHEDULED_DEPARTURE|DEPARTURE_TIME|DEPARTURE_DELAY|TAXI_OUT|WHEELS_OFF|SCHEDULED_TIME|ELAPSED_TIME|AIR_TIME|DISTANCE|WHEELS_ON|TAXI_IN|SCHEDULED_ARRIVAL|ARRIVAL_TIME|ARRIVAL_DELAY|DIVERTED|CANCELLED|CANCELLATION_REASON|AIR_SYSTEM_DELAY|SECURITY_DELAY|AIRLINE_DELAY|LATE_AIRCRAFT_DELAY|WEATHER_DELAY|          HOUR_ARR|\n",
            "+----+-----+---+-----------+-------+-------------+-----------+--------------+-------------------+-------------------+--------------+---------------+--------+----------+--------------+------------+--------+--------+---------+-------+-----------------+------------+-------------+--------+---------+-------------------+----------------+--------------+-------------+-------------------+-------------+------------------+\n",
            "|2015|    1|  1|          4|     AS|          135|     N527AS|           SEA|                ANC|               0025|          0024|             -1|      11|      0035|           235|         215|     199|    1448|     0254|      5|             0320|        0259|          -21|       0|        0|               null|            null|          null|         null|               null|         null| 3.316666666666667|\n",
            "|2015|    1|  1|          4|     AS|           81|     N577AS|           SEA|                ANC|               0600|          0557|             -3|      25|      0622|           234|         224|     195|    1448|     0837|      4|             0854|        0841|          -13|       0|        0|               null|            null|          null|         null|               null|         null|              3.25|\n",
            "|2015|    1|  1|          4|     AS|           83|     N532AS|           SEA|                ANC|               0800|          0802|              2|      14|      0816|           235|         211|     194|    1448|     1030|      3|             1055|        1033|          -22|       0|        0|               null|            null|          null|         null|               null|         null|3.2333333333333334|\n",
            "|2015|    1|  1|          4|     AS|          111|     N570AS|           SEA|                ANC|               0905|          0859|             -6|      30|      0929|           230|         226|     193|    1448|     1142|      3|             1155|        1145|          -10|       0|        0|               null|            null|          null|         null|               null|         null| 3.216666666666667|\n",
            "|2015|    1|  1|          4|     AS|           85|     N764AS|           SEA|                ANC|               1020|          1020|              0|      19|      1039|           223|         220|     198|    1448|     1257|      3|             1303|        1300|           -3|       0|        0|               null|            null|          null|         null|               null|         null|               3.3|\n",
            "+----+-----+---+-----------+-------+-------------+-----------+--------------+-------------------+-------------------+--------------+---------------+--------+----------+--------------+------------+--------+--------+---------+-------+-----------------+------------+-------------+--------+---------+-------------------+----------------+--------------+-------------+-------------------+-------------+------------------+\n",
            "only showing top 5 rows\n",
            "\n"
          ]
        }
      ]
    },
    {
      "cell_type": "code",
      "source": [
        "avg_time_org_airport = flights.groupBy(\"ORIGIN_AIRPORT\").avg(\"HOUR_ARR\")\n",
        "avg_time_org_airport.show(5)"
      ],
      "metadata": {
        "colab": {
          "base_uri": "https://localhost:8080/"
        },
        "id": "-RGSv6xNh1tV",
        "outputId": "54236af4-1eaf-45de-bea9-8205a78c9bf8"
      },
      "execution_count": null,
      "outputs": [
        {
          "output_type": "stream",
          "name": "stdout",
          "text": [
            "+--------------+------------------+\n",
            "|ORIGIN_AIRPORT|     avg(HOUR_ARR)|\n",
            "+--------------+------------------+\n",
            "|           BGM| 1.096525096525096|\n",
            "|           PSE|3.0352529358626916|\n",
            "|           INL|0.5327937649880096|\n",
            "|           DLG|0.8359307359307364|\n",
            "|         12888|0.4413461538461539|\n",
            "+--------------+------------------+\n",
            "only showing top 5 rows\n",
            "\n"
          ]
        }
      ]
    },
    {
      "cell_type": "markdown",
      "source": [
        "#Biến đổi dữ liệu với spark.sql()\n",
        "- Một trong những lợi thế khi đưa bảng lên cluster đó là có thể sử dụng các câu lệnh biến đổi SQL từ phương thức .sql() của spark để transform dữ liệu. Bên dưới là các lệnh cơ bản mà chúng sẽ có thể gặp:\n",
        "> - SELECT: Có cú pháp chung là: SELECT * FROM TABLENAME WHERE CONDTION Lệnh này sẽ lựa chọn các trường trong bảng theo điều kiện tại WHERE. Đây là lệnh rất quen thuộc trong SQL.\n",
        "> - GROUP BY: Lệnh này sẽ thống kê các các trường measurement (các trường dùng để tính toán) theo một nhóm các trường dimension (các trường dùng để phân loại) dựa trên các aggregation function như sum(), avg(), min(), max(), mean(), median(), count(), count(distinct()) của SQL.\n",
        "> - ORDER BY:\n",
        "> - HAVING:\n",
        "> - UPDATE: Cập nhật một trường theo một công thức nào đó.\n",
        "> - INSERT: Insert thêm row mới cho bảng.\n",
        "> - DELETE: Xóa các records của bảng theo điều kiện.\n",
        "> - Nhóm các lệnh join: gồm các lệnh left join, right join, inner join, outer join."
      ],
      "metadata": {
        "id": "6Ga8cEzhrThV"
      }
    },
    {
      "cell_type": "code",
      "source": [
        "flights_10 = my_spark.sql('SELECT * FROM flights_temp WHERE AIR_TIME > 10')\n",
        "flights_10.show(5)"
      ],
      "metadata": {
        "colab": {
          "base_uri": "https://localhost:8080/"
        },
        "id": "Jej4D7U2h8Fx",
        "outputId": "fb996540-775f-4bf4-acba-5417a0e4423e"
      },
      "execution_count": null,
      "outputs": [
        {
          "output_type": "stream",
          "name": "stdout",
          "text": [
            "+----+-----+---+-----------+-------+-------------+-----------+--------------+-------------------+-------------------+--------------+---------------+--------+----------+--------------+------------+--------+--------+---------+-------+-----------------+------------+-------------+--------+---------+-------------------+----------------+--------------+-------------+-------------------+-------------+\n",
            "|YEAR|MONTH|DAY|DAY_OF_WEEK|AIRLINE|FLIGHT_NUMBER|TAIL_NUMBER|ORIGIN_AIRPORT|DESTINATION_AIRPORT|SCHEDULED_DEPARTURE|DEPARTURE_TIME|DEPARTURE_DELAY|TAXI_OUT|WHEELS_OFF|SCHEDULED_TIME|ELAPSED_TIME|AIR_TIME|DISTANCE|WHEELS_ON|TAXI_IN|SCHEDULED_ARRIVAL|ARRIVAL_TIME|ARRIVAL_DELAY|DIVERTED|CANCELLED|CANCELLATION_REASON|AIR_SYSTEM_DELAY|SECURITY_DELAY|AIRLINE_DELAY|LATE_AIRCRAFT_DELAY|WEATHER_DELAY|\n",
            "+----+-----+---+-----------+-------+-------------+-----------+--------------+-------------------+-------------------+--------------+---------------+--------+----------+--------------+------------+--------+--------+---------+-------+-----------------+------------+-------------+--------+---------+-------------------+----------------+--------------+-------------+-------------------+-------------+\n",
            "|2015|    1|  1|          4|     AS|           98|     N407AS|           ANC|                SEA|               0005|          2354|            -11|      21|      0015|           205|         194|     169|    1448|     0404|      4|             0430|        0408|          -22|       0|        0|               null|            null|          null|         null|               null|         null|\n",
            "|2015|    1|  1|          4|     AA|         2336|     N3KUAA|           LAX|                PBI|               0010|          0002|             -8|      12|      0014|           280|         279|     263|    2330|     0737|      4|             0750|        0741|           -9|       0|        0|               null|            null|          null|         null|               null|         null|\n",
            "|2015|    1|  1|          4|     US|          840|     N171US|           SFO|                CLT|               0020|          0018|             -2|      16|      0034|           286|         293|     266|    2296|     0800|     11|             0806|        0811|            5|       0|        0|               null|            null|          null|         null|               null|         null|\n",
            "|2015|    1|  1|          4|     AA|          258|     N3HYAA|           LAX|                MIA|               0020|          0015|             -5|      15|      0030|           285|         281|     258|    2342|     0748|      8|             0805|        0756|           -9|       0|        0|               null|            null|          null|         null|               null|         null|\n",
            "|2015|    1|  1|          4|     AS|          135|     N527AS|           SEA|                ANC|               0025|          0024|             -1|      11|      0035|           235|         215|     199|    1448|     0254|      5|             0320|        0259|          -21|       0|        0|               null|            null|          null|         null|               null|         null|\n",
            "+----+-----+---+-----------+-------+-------------+-----------+--------------+-------------------+-------------------+--------------+---------------+--------+----------+--------------+------------+--------+--------+---------+-------+-----------------+------------+-------------+--------+---------+-------------------+----------------+--------------+-------------+-------------------+-------------+\n",
            "only showing top 5 rows\n",
            "\n"
          ]
        }
      ]
    },
    {
      "cell_type": "code",
      "source": [
        "print(my_spark.catalog.listTables())\n",
        "agg_arr_time = my_spark.sql(\"SELECT ORIGIN_AIRPORT, DESTINATION_AIRPORT, TAIL_NUMBER, MEAN(AIR_TIME) AS avg_speed FROM flights_temp GROUP BY ORIGIN_AIRPORT, DESTINATION_AIRPORT, TAIL_NUMBER\")\n",
        "agg_arr_time.show(5)"
      ],
      "metadata": {
        "colab": {
          "base_uri": "https://localhost:8080/"
        },
        "id": "nq6vt4yUh-9c",
        "outputId": "d5dad0f3-0692-48ab-f8e8-bfa13b41f2aa"
      },
      "execution_count": null,
      "outputs": [
        {
          "output_type": "stream",
          "name": "stdout",
          "text": [
            "[Table(name='flights_temp', database=None, description=None, tableType='TEMPORARY', isTemporary=True)]\n",
            "+--------------+-------------------+-----------+------------------+\n",
            "|ORIGIN_AIRPORT|DESTINATION_AIRPORT|TAIL_NUMBER|         avg_speed|\n",
            "+--------------+-------------------+-----------+------------------+\n",
            "|           IAG|                FLL|     N630NK|             158.0|\n",
            "|           RIC|                ATL|     N947DN|  75.6470588235294|\n",
            "|           EWR|                ATL|     N970AT|108.02777777777777|\n",
            "|           MSN|                ORD|     N703SK|              28.0|\n",
            "|           AVL|                ATL|     N994AT|              30.5|\n",
            "+--------------+-------------------+-----------+------------------+\n",
            "only showing top 5 rows\n",
            "\n"
          ]
        }
      ]
    },
    {
      "cell_type": "markdown",
      "source": [
        "#Pipeline End-to-End model PySpark ML:\n",
        "- pyspark.ml bao gồm 2 class cơ bản là Transformer cho phép biến đổi dữ liệu và Estimator ước lượng mô hình dự báo:\n",
        "> - Transfromer sử dụng hàm .transform() nhận đầu vào là 1 DataFrame và trả ra một DataFrame mới có các trường đã biến đổi theo Transform.\n",
        "> - Estimator sử dụng hàm .fit() để huấn luyện model. Chúng cũng nhận đầu vào là một DataFrame nhưng kết quả được trả ở đầu ra là 1 model object. Hiện tại spark hỗ trợ khá nhiều các lớp model cơ bản trong machine learning. Các lớp model xuất hiện trong Esimator bao gồm:\n",
        ">> - Đối với bài toán phân loại: LogisticRegression, DecisionTreeClassifier, RandomForestModel, GBTClassifier (gradient bosting tree), MultilayerPerceptronClassifier, LinearSVC (Linear Support Vector Machine), NaiveBayes,...\n",
        ">> - Đối với bài toán dự báo: GeneralizedLinearRegression, DecisionTreeRegressor, RandomForestRegressor, GBTRegressor (gradient boosting Tree), AFTSurvivalRegression (Hồi qui đối với các lớp bài toán estimate survival)."
      ],
      "metadata": {
        "id": "sLwFJmAStciF"
      }
    },
    {
      "cell_type": "markdown",
      "source": [
        "##Xây dựng 1 pipeline cho model dự báo khả năng trễ chuyến bay dựa trên dữ liệu đầu vào là bảng flights"
      ],
      "metadata": {
        "id": "s_DufuDVuS6F"
      }
    },
    {
      "cell_type": "markdown",
      "source": [
        "###Prepare and Transform data"
      ],
      "metadata": {
        "id": "7rfW9GtwvWQJ"
      }
    },
    {
      "cell_type": "code",
      "source": [
        "flights.printSchema()"
      ],
      "metadata": {
        "colab": {
          "base_uri": "https://localhost:8080/"
        },
        "id": "2-LxSNVsueA_",
        "outputId": "176516d1-fa3c-45d7-c7ea-74d3bbc58a9c"
      },
      "execution_count": null,
      "outputs": [
        {
          "output_type": "stream",
          "name": "stdout",
          "text": [
            "root\n",
            " |-- YEAR: string (nullable = true)\n",
            " |-- MONTH: string (nullable = true)\n",
            " |-- DAY: string (nullable = true)\n",
            " |-- DAY_OF_WEEK: string (nullable = true)\n",
            " |-- AIRLINE: string (nullable = true)\n",
            " |-- FLIGHT_NUMBER: string (nullable = true)\n",
            " |-- TAIL_NUMBER: string (nullable = true)\n",
            " |-- ORIGIN_AIRPORT: string (nullable = true)\n",
            " |-- DESTINATION_AIRPORT: string (nullable = true)\n",
            " |-- SCHEDULED_DEPARTURE: string (nullable = true)\n",
            " |-- DEPARTURE_TIME: string (nullable = true)\n",
            " |-- DEPARTURE_DELAY: string (nullable = true)\n",
            " |-- TAXI_OUT: string (nullable = true)\n",
            " |-- WHEELS_OFF: string (nullable = true)\n",
            " |-- SCHEDULED_TIME: string (nullable = true)\n",
            " |-- ELAPSED_TIME: string (nullable = true)\n",
            " |-- AIR_TIME: string (nullable = true)\n",
            " |-- DISTANCE: string (nullable = true)\n",
            " |-- WHEELS_ON: string (nullable = true)\n",
            " |-- TAXI_IN: string (nullable = true)\n",
            " |-- SCHEDULED_ARRIVAL: string (nullable = true)\n",
            " |-- ARRIVAL_TIME: string (nullable = true)\n",
            " |-- ARRIVAL_DELAY: string (nullable = true)\n",
            " |-- DIVERTED: string (nullable = true)\n",
            " |-- CANCELLED: string (nullable = true)\n",
            " |-- CANCELLATION_REASON: string (nullable = true)\n",
            " |-- AIR_SYSTEM_DELAY: string (nullable = true)\n",
            " |-- SECURITY_DELAY: string (nullable = true)\n",
            " |-- AIRLINE_DELAY: string (nullable = true)\n",
            " |-- LATE_AIRCRAFT_DELAY: string (nullable = true)\n",
            " |-- WEATHER_DELAY: string (nullable = true)\n",
            " |-- HOUR_ARR: double (nullable = true)\n",
            "\n"
          ]
        }
      ]
    },
    {
      "cell_type": "code",
      "source": [
        "print('Shape of previous data: ({}, {})'.format(flights.count(), len(flights.columns)))\n",
        "flights_SEA = my_spark.sql(\"select ARRIVAL_DELAY, ARRIVAL_TIME, MONTH, YEAR, DAY_OF_WEEK, DESTINATION_AIRPORT, AIRLINE from flights_temp where ORIGIN_AIRPORT = 'SEA' and AIRLINE in ('DL', 'AA') \")\n",
        "print('Shape of flights_SEA data: ({}, {})'.format(flights_SEA.count(), len(flights_SEA.columns)))"
      ],
      "metadata": {
        "colab": {
          "base_uri": "https://localhost:8080/"
        },
        "id": "R9jEdvOHiHag",
        "outputId": "1fe5a6fe-6092-4fa0-a207-aed98b8fe978"
      },
      "execution_count": null,
      "outputs": [
        {
          "output_type": "stream",
          "name": "stdout",
          "text": [
            "Shape of previous data: (5819079, 32)\n",
            "Shape of flights_SEA data: (19956, 7)\n"
          ]
        }
      ]
    },
    {
      "cell_type": "code",
      "source": [
        "# Create boolean variable IS_DELAY variable as Target\n",
        "flights_SEA = flights_SEA.withColumn(\"IS_DELAY\", flights_SEA.ARRIVAL_DELAY > 0)\n",
        "# Now Convert Boolean variable into integer\n",
        "flights_SEA = flights_SEA.withColumn(\"label\", flights_SEA.IS_DELAY.cast(\"integer\"))\n",
        "# Remove missing value\n",
        "model_data = flights_SEA.filter(\"ARRIVAL_DELAY is not null \\\n",
        "                                and ARRIVAL_TIME is not null \\\n",
        "                                and MONTH is not null \\\n",
        "                                and YEAR is not null  \\\n",
        "                                and DAY_OF_WEEK is not null \\\n",
        "                                and DESTINATION_AIRPORT is not null \\\n",
        "                                and AIRLINE is not null\")\n",
        "\n",
        "print('Shape of model_data data: ({}, {})'.format(model_data.count(), len(model_data.columns)))\n"
      ],
      "metadata": {
        "colab": {
          "base_uri": "https://localhost:8080/"
        },
        "id": "xjxrpLCjiNOo",
        "outputId": "21f30daf-bb82-4683-9afd-e78ecc6be7dc"
      },
      "execution_count": null,
      "outputs": [
        {
          "output_type": "stream",
          "name": "stdout",
          "text": [
            "Shape of model_data data: (19823, 9)\n"
          ]
        }
      ]
    },
    {
      "cell_type": "markdown",
      "source": [
        "- Convert các biến string sang numeric bằng hàm .withColumn()"
      ],
      "metadata": {
        "id": "YkTQinaqu4Ou"
      }
    },
    {
      "cell_type": "code",
      "source": [
        "# ARRIVAL_TIME, MONTH, YEAR, DAY_OF_WEEK,SCHEDULED_DEPARTURE,DEPARTURE_DELAY,WEATHER_DELAY,LATE_AIRCRAFT_DELAY\n",
        "model_data = model_data.withColumn(\"ARRIVAL_TIME\", model_data.ARRIVAL_TIME.cast(\"integer\"))\n",
        "model_data = model_data.withColumn(\"MONTH\", model_data.MONTH.cast(\"integer\"))\n",
        "model_data = model_data.withColumn(\"YEAR\", model_data.YEAR.cast(\"integer\"))\n",
        "model_data = model_data.withColumn(\"DAY_OF_WEEK\", model_data.DAY_OF_WEEK.cast(\"integer\"))\n",
        "model_data.printSchema()"
      ],
      "metadata": {
        "colab": {
          "base_uri": "https://localhost:8080/"
        },
        "id": "B4wNGQw_iQCV",
        "outputId": "4d3af325-d4a3-45cb-b705-3c12513268e1"
      },
      "execution_count": null,
      "outputs": [
        {
          "output_type": "stream",
          "name": "stdout",
          "text": [
            "root\n",
            " |-- ARRIVAL_DELAY: string (nullable = true)\n",
            " |-- ARRIVAL_TIME: integer (nullable = true)\n",
            " |-- MONTH: integer (nullable = true)\n",
            " |-- YEAR: integer (nullable = true)\n",
            " |-- DAY_OF_WEEK: integer (nullable = true)\n",
            " |-- DESTINATION_AIRPORT: string (nullable = true)\n",
            " |-- AIRLINE: string (nullable = true)\n",
            " |-- IS_DELAY: boolean (nullable = true)\n",
            " |-- label: integer (nullable = true)\n",
            "\n"
          ]
        }
      ]
    },
    {
      "cell_type": "markdown",
      "source": [
        "- Biến đổi các biến String bằng StringIndexer và OneHotEncoder."
      ],
      "metadata": {
        "id": "pHRNgMBIu-Ro"
      }
    },
    {
      "cell_type": "code",
      "source": [
        "from pyspark.ml.feature import StringIndexer, OneHotEncoder\n",
        "# I. With DESTINATION_AIRPORT\n",
        "# Create StringIndexer\n",
        "dest_indexer = StringIndexer(inputCol = \"DESTINATION_AIRPORT\", \\\n",
        "                             outputCol = \"DESTINATION_INDEX\")\n",
        "\n",
        "# Create OneHotEncoder\n",
        "dest_onehot = OneHotEncoder(inputCol = \"DESTINATION_INDEX\", \\\n",
        "                            outputCol = \"DESTINATION_FACT\")\n",
        "\n",
        "# II. With AIRLINE\n",
        "# Create StringIndexer\n",
        "airline_indexer = StringIndexer(inputCol = \"AIRLINE\", \\\n",
        "                                outputCol = \"AIRLINE_INDEX\")\n",
        "\n",
        "# Create OneHotEncoder\n",
        "airline_onehot = OneHotEncoder(inputCol = \"AIRLINE_INDEX\", \\\n",
        "                               outputCol = \"AIRLINE_FACT\")"
      ],
      "metadata": {
        "id": "w0l9UDLTiTE3"
      },
      "execution_count": null,
      "outputs": []
    },
    {
      "cell_type": "code",
      "source": [
        "from pyspark.ml.feature import VectorAssembler\n",
        "vec_assembler = VectorAssembler(inputCols = [\"ARRIVAL_TIME\", \"MONTH\", \"YEAR\", \\\n",
        "                                             \"DAY_OF_WEEK\", \"DESTINATION_FACT\",\\\n",
        "                                             \"AIRLINE_FACT\"], \n",
        "                                outputCol = \"features\")"
      ],
      "metadata": {
        "id": "Cmp20GytiVwB"
      },
      "execution_count": null,
      "outputs": []
    },
    {
      "cell_type": "code",
      "source": [
        "from pyspark.ml import Pipeline\n",
        "\n",
        "# Make a pipeline\n",
        "flights_sea_pipe  = Pipeline(stages = [dest_indexer, dest_onehot, airline_indexer, \\\n",
        "                                       airline_onehot, vec_assembler])"
      ],
      "metadata": {
        "id": "M1BuGwoYiZoc"
      },
      "execution_count": null,
      "outputs": []
    },
    {
      "cell_type": "code",
      "source": [
        "pipe_data = flights_sea_pipe.fit(model_data).transform(model_data)"
      ],
      "metadata": {
        "id": "hKSIq5xSicq-"
      },
      "execution_count": null,
      "outputs": []
    },
    {
      "cell_type": "code",
      "source": [
        "train, test = pipe_data.randomSplit([0.8, 0.2])"
      ],
      "metadata": {
        "id": "pugY93lfidf6"
      },
      "execution_count": null,
      "outputs": []
    },
    {
      "cell_type": "markdown",
      "source": [
        "### Train and Evaluate Model"
      ],
      "metadata": {
        "id": "UBYXHSDovnxz"
      }
    },
    {
      "cell_type": "code",
      "source": [
        "from pyspark.ml.classification import LogisticRegression\n",
        "from pyspark.ml.classification import RandomForestClassifier\n",
        "# Create logistic regression\n",
        "lr = LogisticRegression()\n",
        "rf = RandomForestClassifier()"
      ],
      "metadata": {
        "id": "Y7u8TVGKigzD"
      },
      "execution_count": null,
      "outputs": []
    },
    {
      "cell_type": "code",
      "source": [
        "# Import the evaluation submodule\n",
        "import pyspark.ml.evaluation as evals\n",
        "\n",
        "# Create a BinaryClassificationEvaluator\n",
        "evaluator = evals.BinaryClassificationEvaluator(metricName = \"areaUnderROC\")"
      ],
      "metadata": {
        "id": "85XIlSx8iiXF"
      },
      "execution_count": null,
      "outputs": []
    },
    {
      "cell_type": "markdown",
      "source": [
        "###Tunning model "
      ],
      "metadata": {
        "id": "v_x2yaqsvyzd"
      }
    },
    {
      "cell_type": "code",
      "source": [
        "# Import the tuning submodule\n",
        "import pyspark.ml.tuning as tune\n",
        "import numpy as np\n",
        "\n",
        "# Create the parameter grid\n",
        "grid = tune.ParamGridBuilder()\n",
        "\n",
        "# Add the hyperparameter, we can add more than one hyperparameter\n",
        "grid = grid.addGrid(rf.numTrees, np.arange(100, 1000, 100))\n",
        "\n",
        "# Build the grid\n",
        "grid = grid.build()"
      ],
      "metadata": {
        "id": "ccfVv6ReikXf"
      },
      "execution_count": null,
      "outputs": []
    },
    {
      "cell_type": "code",
      "source": [
        "# Create the CrossValidator\n",
        "cv = tune.CrossValidator(estimator=rf,\n",
        "               estimatorParamMaps=grid,\n",
        "               evaluator=evaluator\n",
        "               )\n",
        "\n",
        "# Fit cross validation on models\n",
        "models = cv.fit(train)"
      ],
      "metadata": {
        "id": "ik5OJ4iSimUO"
      },
      "execution_count": null,
      "outputs": []
    },
    {
      "cell_type": "code",
      "source": [
        "best_lr = models.bestModel"
      ],
      "metadata": {
        "id": "ZpvagPK6ioNT"
      },
      "execution_count": null,
      "outputs": []
    },
    {
      "cell_type": "code",
      "source": [
        "best_lr = rf.fit(train)\n",
        "print(best_lr)"
      ],
      "metadata": {
        "colab": {
          "base_uri": "https://localhost:8080/"
        },
        "id": "048UrFuxiqtW",
        "outputId": "f160f3a8-45c9-4921-dd98-34792fa99e88"
      },
      "execution_count": null,
      "outputs": [
        {
          "output_type": "stream",
          "name": "stdout",
          "text": [
            "RandomForestClassificationModel: uid=RandomForestClassifier_25fa8e70bad7, numTrees=20, numClasses=2, numFeatures=29\n"
          ]
        }
      ]
    },
    {
      "cell_type": "code",
      "source": [
        "test_results = best_lr.transform(test)"
      ],
      "metadata": {
        "id": "4uBym90jith1"
      },
      "execution_count": null,
      "outputs": []
    },
    {
      "cell_type": "code",
      "source": [
        "# Evaluate the predictions\n",
        "print(evaluator.evaluate(test_results))"
      ],
      "metadata": {
        "colab": {
          "base_uri": "https://localhost:8080/"
        },
        "id": "S1D6lU8piuFx",
        "outputId": "40b7b62b-e457-4257-8bab-d0a67d9c7a46"
      },
      "execution_count": null,
      "outputs": [
        {
          "output_type": "stream",
          "name": "stdout",
          "text": [
            "0.6382965553526664\n"
          ]
        }
      ]
    }
  ]
}