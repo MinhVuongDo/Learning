{
  "nbformat": 4,
  "nbformat_minor": 0,
  "metadata": {
    "colab": {
      "provenance": []
    },
    "kernelspec": {
      "name": "python3",
      "display_name": "Python 3"
    },
    "language_info": {
      "name": "python"
    }
  },
  "cells": [
    {
      "cell_type": "markdown",
      "source": [],
      "metadata": {
        "id": "UVI3NqjLbDIi"
      }
    },
    {
      "cell_type": "code",
      "execution_count": null,
      "metadata": {
        "colab": {
          "base_uri": "https://localhost:8080/"
        },
        "id": "pncYZlGVaLwl",
        "outputId": "2cf5ae6a-09b4-4032-bcd9-b8d4ac28da02"
      },
      "outputs": [
        {
          "output_type": "stream",
          "name": "stdout",
          "text": [
            "Mounted at /content/drive\n"
          ]
        }
      ],
      "source": [
        "from google.colab import drive\n",
        "drive.mount('/content/drive')"
      ]
    },
    {
      "cell_type": "code",
      "source": [
        "!pip3 install pyspark"
      ],
      "metadata": {
        "colab": {
          "base_uri": "https://localhost:8080/"
        },
        "id": "LWkFUQhpbef7",
        "outputId": "56051494-609d-4d79-f638-65daea5f8d02"
      },
      "execution_count": null,
      "outputs": [
        {
          "output_type": "stream",
          "name": "stdout",
          "text": [
            "Looking in indexes: https://pypi.org/simple, https://us-python.pkg.dev/colab-wheels/public/simple/\n",
            "Collecting pyspark\n",
            "  Downloading pyspark-3.3.1.tar.gz (281.4 MB)\n",
            "\u001b[K     |████████████████████████████████| 281.4 MB 37 kB/s \n",
            "\u001b[?25hCollecting py4j==0.10.9.5\n",
            "  Downloading py4j-0.10.9.5-py2.py3-none-any.whl (199 kB)\n",
            "\u001b[K     |████████████████████████████████| 199 kB 47.0 MB/s \n",
            "\u001b[?25hBuilding wheels for collected packages: pyspark\n",
            "  Building wheel for pyspark (setup.py) ... \u001b[?25l\u001b[?25hdone\n",
            "  Created wheel for pyspark: filename=pyspark-3.3.1-py2.py3-none-any.whl size=281845513 sha256=e8a5fc17d36f9e68806d0badb0d980089db6b1333702e778835979841494152e\n",
            "  Stored in directory: /root/.cache/pip/wheels/42/59/f5/79a5bf931714dcd201b26025347785f087370a10a3329a899c\n",
            "Successfully built pyspark\n",
            "Installing collected packages: py4j, pyspark\n",
            "Successfully installed py4j-0.10.9.5 pyspark-3.3.1\n"
          ]
        }
      ]
    },
    {
      "cell_type": "code",
      "source": [
        "online_retail = '/content/drive/MyDrive/Colab Notebooks/Essential-PySpark-for-Scalable-Data-Analytics-main/data/online_retail/online_retail.csv'"
      ],
      "metadata": {
        "id": "FnPXE8JtbSCB"
      },
      "execution_count": null,
      "outputs": []
    },
    {
      "cell_type": "code",
      "source": [
        "from pyspark.sql import SparkSession\n",
        "\n",
        "spark = SparkSession.builder.appName('dataApp').getOrCreate()"
      ],
      "metadata": {
        "id": "992k-DICbpZT"
      },
      "execution_count": null,
      "outputs": []
    },
    {
      "cell_type": "markdown",
      "source": [
        "#CSV"
      ],
      "metadata": {
        "id": "JSo2yT3RaR4E"
      }
    },
    {
      "cell_type": "markdown",
      "source": [
        "##read data"
      ],
      "metadata": {
        "id": "r4a-gfWnb770"
      }
    },
    {
      "cell_type": "code",
      "source": [
        "%%time\n",
        "df = spark.read.format('csv').option(\"header\", \"true\").option('inferScema','true').load(online_retail)"
      ],
      "metadata": {
        "colab": {
          "base_uri": "https://localhost:8080/"
        },
        "id": "j6-W9d_VcQHZ",
        "outputId": "9aede2c8-fff1-4fda-b81b-81f352dcf180"
      },
      "execution_count": null,
      "outputs": [
        {
          "output_type": "stream",
          "name": "stdout",
          "text": [
            "CPU times: user 6.35 ms, sys: 1.98 ms, total: 8.33 ms\n",
            "Wall time: 528 ms\n"
          ]
        }
      ]
    },
    {
      "cell_type": "code",
      "source": [
        "df.show(10)"
      ],
      "metadata": {
        "colab": {
          "base_uri": "https://localhost:8080/"
        },
        "id": "CCmYD8YZdJDR",
        "outputId": "6afb0386-4d7c-4de3-898d-610d8ac157a9"
      },
      "execution_count": null,
      "outputs": [
        {
          "output_type": "stream",
          "name": "stdout",
          "text": [
            "+---------+---------+--------------------+--------+--------------+---------+----------+--------------+\n",
            "|InvoiceNo|StockCode|         Description|Quantity|   InvoiceDate|UnitPrice|CustomerID|       Country|\n",
            "+---------+---------+--------------------+--------+--------------+---------+----------+--------------+\n",
            "|   536365|   85123A|WHITE HANGING HEA...|       6|01/12/10 08:26|     2.55|     17850|United Kingdom|\n",
            "|   536365|    71053| WHITE METAL LANTERN|       6|01/12/10 08:26|     3.39|     17850|United Kingdom|\n",
            "|   536365|   84406B|CREAM CUPID HEART...|       8|01/12/10 08:26|     2.75|     17850|United Kingdom|\n",
            "|   536365|   84029G|KNITTED UNION FLA...|       6|01/12/10 08:26|     3.39|     17850|United Kingdom|\n",
            "|   536365|   84029E|RED WOOLLY HOTTIE...|       6|01/12/10 08:26|     3.39|     17850|United Kingdom|\n",
            "|   536365|    22752|SET 7 BABUSHKA NE...|       2|01/12/10 08:26|     7.65|     17850|United Kingdom|\n",
            "|   536365|    21730|GLASS STAR FROSTE...|       6|01/12/10 08:26|     4.25|     17850|United Kingdom|\n",
            "|   536366|    22633|HAND WARMER UNION...|       6|01/12/10 08:28|     1.85|     17850|United Kingdom|\n",
            "|   536366|    22632|HAND WARMER RED P...|       6|01/12/10 08:28|     1.85|     17850|United Kingdom|\n",
            "|   536367|    84879|ASSORTED COLOUR B...|      32|01/12/10 08:34|     1.69|     13047|United Kingdom|\n",
            "+---------+---------+--------------------+--------+--------------+---------+----------+--------------+\n",
            "only showing top 10 rows\n",
            "\n"
          ]
        }
      ]
    },
    {
      "cell_type": "markdown",
      "source": [
        "##Write data"
      ],
      "metadata": {
        "id": "9gN7ubWQcCe9"
      }
    },
    {
      "cell_type": "code",
      "source": [
        "%%time\n",
        "df.write.format('csv').option('header', 'true').mode('overwrite').save('/tmp/temp_csv.csv')"
      ],
      "metadata": {
        "colab": {
          "base_uri": "https://localhost:8080/"
        },
        "id": "fjFOOXUpdAcD",
        "outputId": "f386bd3f-2245-49f5-d563-5f703d7927cc"
      },
      "execution_count": null,
      "outputs": [
        {
          "output_type": "stream",
          "name": "stdout",
          "text": [
            "CPU times: user 44.3 ms, sys: 5.16 ms, total: 49.4 ms\n",
            "Wall time: 6.1 s\n"
          ]
        }
      ]
    },
    {
      "cell_type": "code",
      "source": [
        "!ls /tmp/temp_csv.csv"
      ],
      "metadata": {
        "colab": {
          "base_uri": "https://localhost:8080/"
        },
        "id": "gQp9Wgi3eBjH",
        "outputId": "267a708b-bbf3-4795-e5fd-b3f2435692a3"
      },
      "execution_count": null,
      "outputs": [
        {
          "output_type": "stream",
          "name": "stdout",
          "text": [
            "part-00000-c688d278-089f-4431-9e63-e7d0e55bcf0e-c000.csv  _SUCCESS\n",
            "part-00001-c688d278-089f-4431-9e63-e7d0e55bcf0e-c000.csv\n"
          ]
        }
      ]
    },
    {
      "cell_type": "code",
      "source": [
        "import pandas as pd\n"
      ],
      "metadata": {
        "id": "sjWQpwJ8eJJI"
      },
      "execution_count": null,
      "outputs": []
    },
    {
      "cell_type": "code",
      "source": [
        "%%time\n",
        "data_temp = pd.read_csv(online_retail)"
      ],
      "metadata": {
        "colab": {
          "base_uri": "https://localhost:8080/"
        },
        "id": "2kk0Fcq_ePdZ",
        "outputId": "c84ef695-92fa-4320-c5bc-5a24431bf743"
      },
      "execution_count": null,
      "outputs": [
        {
          "output_type": "stream",
          "name": "stdout",
          "text": [
            "CPU times: user 651 ms, sys: 146 ms, total: 797 ms\n",
            "Wall time: 868 ms\n"
          ]
        }
      ]
    },
    {
      "cell_type": "markdown",
      "source": [
        "#PARQUET"
      ],
      "metadata": {
        "id": "xT0OpqpfaXYy"
      }
    },
    {
      "cell_type": "markdown",
      "source": [
        "##write parquet file"
      ],
      "metadata": {
        "id": "mAMDPN-NjmJ6"
      }
    },
    {
      "cell_type": "code",
      "source": [
        "%%time\n",
        "df.write.format('parquet').mode('overwrite').option('header','true').save('/tmp/parquet')"
      ],
      "metadata": {
        "colab": {
          "base_uri": "https://localhost:8080/"
        },
        "id": "Lq7YuPvhjlbU",
        "outputId": "0cb20756-9324-4628-ea44-c8084a9ea5c4"
      },
      "execution_count": null,
      "outputs": [
        {
          "output_type": "stream",
          "name": "stdout",
          "text": [
            "CPU times: user 38.5 ms, sys: 1.65 ms, total: 40.1 ms\n",
            "Wall time: 5.15 s\n"
          ]
        }
      ]
    },
    {
      "cell_type": "markdown",
      "source": [
        "##read parquet file"
      ],
      "metadata": {
        "id": "w7h_aJ6rkb0m"
      }
    },
    {
      "cell_type": "code",
      "source": [
        "%%time\n",
        "df_parquet = spark.read.format('parquet').option('header','true').load('/tmp/parquet/')\n"
      ],
      "metadata": {
        "colab": {
          "base_uri": "https://localhost:8080/"
        },
        "id": "aZnDgkYGkbRV",
        "outputId": "a5455104-9629-45ff-8829-aae1b62f2865"
      },
      "execution_count": null,
      "outputs": [
        {
          "output_type": "stream",
          "name": "stdout",
          "text": [
            "CPU times: user 6.65 ms, sys: 1.9 ms, total: 8.55 ms\n",
            "Wall time: 509 ms\n"
          ]
        }
      ]
    },
    {
      "cell_type": "code",
      "source": [
        "df_parquet.show(10)"
      ],
      "metadata": {
        "colab": {
          "base_uri": "https://localhost:8080/"
        },
        "id": "UAv0CfBHlUJX",
        "outputId": "a6816ef5-a979-4ecc-d4f2-501d231ac615"
      },
      "execution_count": null,
      "outputs": [
        {
          "output_type": "stream",
          "name": "stdout",
          "text": [
            "+---------+---------+--------------------+--------+--------------+---------+----------+--------------+\n",
            "|InvoiceNo|StockCode|         Description|Quantity|   InvoiceDate|UnitPrice|CustomerID|       Country|\n",
            "+---------+---------+--------------------+--------+--------------+---------+----------+--------------+\n",
            "|   536365|   85123A|WHITE HANGING HEA...|       6|01/12/10 08:26|     2.55|     17850|United Kingdom|\n",
            "|   536365|    71053| WHITE METAL LANTERN|       6|01/12/10 08:26|     3.39|     17850|United Kingdom|\n",
            "|   536365|   84406B|CREAM CUPID HEART...|       8|01/12/10 08:26|     2.75|     17850|United Kingdom|\n",
            "|   536365|   84029G|KNITTED UNION FLA...|       6|01/12/10 08:26|     3.39|     17850|United Kingdom|\n",
            "|   536365|   84029E|RED WOOLLY HOTTIE...|       6|01/12/10 08:26|     3.39|     17850|United Kingdom|\n",
            "|   536365|    22752|SET 7 BABUSHKA NE...|       2|01/12/10 08:26|     7.65|     17850|United Kingdom|\n",
            "|   536365|    21730|GLASS STAR FROSTE...|       6|01/12/10 08:26|     4.25|     17850|United Kingdom|\n",
            "|   536366|    22633|HAND WARMER UNION...|       6|01/12/10 08:28|     1.85|     17850|United Kingdom|\n",
            "|   536366|    22632|HAND WARMER RED P...|       6|01/12/10 08:28|     1.85|     17850|United Kingdom|\n",
            "|   536367|    84879|ASSORTED COLOUR B...|      32|01/12/10 08:34|     1.69|     13047|United Kingdom|\n",
            "+---------+---------+--------------------+--------+--------------+---------+----------+--------------+\n",
            "only showing top 10 rows\n",
            "\n"
          ]
        }
      ]
    },
    {
      "cell_type": "markdown",
      "source": [
        "#JSON\n"
      ],
      "metadata": {
        "id": "IfOfUvc3ahWw"
      }
    },
    {
      "cell_type": "markdown",
      "source": [
        "##write Json file"
      ],
      "metadata": {
        "id": "aVf1DzsAl6mD"
      }
    },
    {
      "cell_type": "code",
      "source": [
        "%%time \n",
        "df.write.mode('overwrite').format('json').option('header','true').save('/tmp/data_json')"
      ],
      "metadata": {
        "colab": {
          "base_uri": "https://localhost:8080/"
        },
        "id": "iuG1HpVil_tv",
        "outputId": "c513795d-48a7-41c6-b826-72b4e44754ee"
      },
      "execution_count": null,
      "outputs": [
        {
          "output_type": "stream",
          "name": "stdout",
          "text": [
            "CPU times: user 22.7 ms, sys: 6.21 ms, total: 28.9 ms\n",
            "Wall time: 4.12 s\n"
          ]
        }
      ]
    },
    {
      "cell_type": "markdown",
      "source": [
        "##Read JSON file"
      ],
      "metadata": {
        "id": "5nMNK7qgmAiK"
      }
    },
    {
      "cell_type": "code",
      "source": [
        "%%time\n",
        "df_json = spark.read.format('json').load('/tmp/data_json')"
      ],
      "metadata": {
        "colab": {
          "base_uri": "https://localhost:8080/"
        },
        "id": "h4OO0VNQlgB1",
        "outputId": "2795db4a-a441-4ae0-8977-e161cb457cb8"
      },
      "execution_count": null,
      "outputs": [
        {
          "output_type": "stream",
          "name": "stdout",
          "text": [
            "CPU times: user 22.5 ms, sys: 911 µs, total: 23.4 ms\n",
            "Wall time: 3.13 s\n"
          ]
        }
      ]
    },
    {
      "cell_type": "code",
      "source": [
        "df_json.show(10)"
      ],
      "metadata": {
        "colab": {
          "base_uri": "https://localhost:8080/"
        },
        "id": "WoZCI8LpnEWk",
        "outputId": "65d5afc5-b788-408b-9dcc-b122bdd1e800"
      },
      "execution_count": null,
      "outputs": [
        {
          "output_type": "stream",
          "name": "stdout",
          "text": [
            "+--------------+----------+--------------------+--------------+---------+--------+---------+---------+\n",
            "|       Country|CustomerID|         Description|   InvoiceDate|InvoiceNo|Quantity|StockCode|UnitPrice|\n",
            "+--------------+----------+--------------------+--------------+---------+--------+---------+---------+\n",
            "|United Kingdom|     17850|WHITE HANGING HEA...|01/12/10 08:26|   536365|       6|   85123A|     2.55|\n",
            "|United Kingdom|     17850| WHITE METAL LANTERN|01/12/10 08:26|   536365|       6|    71053|     3.39|\n",
            "|United Kingdom|     17850|CREAM CUPID HEART...|01/12/10 08:26|   536365|       8|   84406B|     2.75|\n",
            "|United Kingdom|     17850|KNITTED UNION FLA...|01/12/10 08:26|   536365|       6|   84029G|     3.39|\n",
            "|United Kingdom|     17850|RED WOOLLY HOTTIE...|01/12/10 08:26|   536365|       6|   84029E|     3.39|\n",
            "|United Kingdom|     17850|SET 7 BABUSHKA NE...|01/12/10 08:26|   536365|       2|    22752|     7.65|\n",
            "|United Kingdom|     17850|GLASS STAR FROSTE...|01/12/10 08:26|   536365|       6|    21730|     4.25|\n",
            "|United Kingdom|     17850|HAND WARMER UNION...|01/12/10 08:28|   536366|       6|    22633|     1.85|\n",
            "|United Kingdom|     17850|HAND WARMER RED P...|01/12/10 08:28|   536366|       6|    22632|     1.85|\n",
            "|United Kingdom|     13047|ASSORTED COLOUR B...|01/12/10 08:34|   536367|      32|    84879|     1.69|\n",
            "+--------------+----------+--------------------+--------------+---------+--------+---------+---------+\n",
            "only showing top 10 rows\n",
            "\n"
          ]
        }
      ]
    },
    {
      "cell_type": "markdown",
      "source": [
        "#ARVO"
      ],
      "metadata": {
        "id": "Zo3oWSNvawL4"
      }
    },
    {
      "cell_type": "markdown",
      "source": [
        "##Write Arvo file"
      ],
      "metadata": {
        "id": "91jstKXjnNDZ"
      }
    },
    {
      "cell_type": "code",
      "source": [
        "%%time\n",
        "df.write.mode('overwrite').format('avro').option('header','true').save('/tmp/data_avro/')"
      ],
      "metadata": {
        "id": "Zle5qCuSnRl2"
      },
      "execution_count": null,
      "outputs": []
    },
    {
      "cell_type": "markdown",
      "source": [
        "##Read Avro file"
      ],
      "metadata": {
        "id": "2Yx9aAZ9pz1S"
      }
    },
    {
      "cell_type": "code",
      "source": [
        "df_avro = spark.read.format('avro').option('header','true').load('/tmp/data_avro')"
      ],
      "metadata": {
        "id": "BVh_fM9EpyVD"
      },
      "execution_count": null,
      "outputs": []
    },
    {
      "cell_type": "markdown",
      "source": [
        "#ORC"
      ],
      "metadata": {
        "id": "nNKiY7VDa1fA"
      }
    },
    {
      "cell_type": "markdown",
      "source": [
        "##write ORC file"
      ],
      "metadata": {
        "id": "DLLArABcqP4v"
      }
    },
    {
      "cell_type": "code",
      "source": [
        "%%time\n",
        "df.write.mode('overwrite').format('orc').option('header','true').save('/tmp/data_orc/')"
      ],
      "metadata": {
        "colab": {
          "base_uri": "https://localhost:8080/"
        },
        "id": "Ck0uCzUfqa9S",
        "outputId": "fb8407e5-b70b-4018-e807-d88859bb522f"
      },
      "execution_count": null,
      "outputs": [
        {
          "output_type": "stream",
          "name": "stdout",
          "text": [
            "CPU times: user 47.3 ms, sys: 4.9 ms, total: 52.2 ms\n",
            "Wall time: 7.15 s\n"
          ]
        }
      ]
    },
    {
      "cell_type": "markdown",
      "source": [
        "##read ORC file"
      ],
      "metadata": {
        "id": "Mq3CSsJgqnL-"
      }
    },
    {
      "cell_type": "code",
      "source": [
        "%%time\n",
        "df_orc = spark.read.format('orc').option('header','true').load('/tmp/data_orc')"
      ],
      "metadata": {
        "colab": {
          "base_uri": "https://localhost:8080/"
        },
        "id": "vU6Ny321qrKd",
        "outputId": "078c0da5-1622-4b46-bc2f-1abe95122c8e"
      },
      "execution_count": null,
      "outputs": [
        {
          "output_type": "stream",
          "name": "stdout",
          "text": [
            "CPU times: user 0 ns, sys: 2.81 ms, total: 2.81 ms\n",
            "Wall time: 72.8 ms\n"
          ]
        }
      ]
    },
    {
      "cell_type": "code",
      "source": [
        "df_orc.show(10)"
      ],
      "metadata": {
        "colab": {
          "base_uri": "https://localhost:8080/"
        },
        "id": "9D2tRRBWq4mQ",
        "outputId": "84de3520-a219-4eba-e077-ff154b16949e"
      },
      "execution_count": null,
      "outputs": [
        {
          "output_type": "stream",
          "name": "stdout",
          "text": [
            "+---------+---------+--------------------+--------+--------------+---------+----------+--------------+\n",
            "|InvoiceNo|StockCode|         Description|Quantity|   InvoiceDate|UnitPrice|CustomerID|       Country|\n",
            "+---------+---------+--------------------+--------+--------------+---------+----------+--------------+\n",
            "|   536365|   85123A|WHITE HANGING HEA...|       6|01/12/10 08:26|     2.55|     17850|United Kingdom|\n",
            "|   536365|    71053| WHITE METAL LANTERN|       6|01/12/10 08:26|     3.39|     17850|United Kingdom|\n",
            "|   536365|   84406B|CREAM CUPID HEART...|       8|01/12/10 08:26|     2.75|     17850|United Kingdom|\n",
            "|   536365|   84029G|KNITTED UNION FLA...|       6|01/12/10 08:26|     3.39|     17850|United Kingdom|\n",
            "|   536365|   84029E|RED WOOLLY HOTTIE...|       6|01/12/10 08:26|     3.39|     17850|United Kingdom|\n",
            "|   536365|    22752|SET 7 BABUSHKA NE...|       2|01/12/10 08:26|     7.65|     17850|United Kingdom|\n",
            "|   536365|    21730|GLASS STAR FROSTE...|       6|01/12/10 08:26|     4.25|     17850|United Kingdom|\n",
            "|   536366|    22633|HAND WARMER UNION...|       6|01/12/10 08:28|     1.85|     17850|United Kingdom|\n",
            "|   536366|    22632|HAND WARMER RED P...|       6|01/12/10 08:28|     1.85|     17850|United Kingdom|\n",
            "|   536367|    84879|ASSORTED COLOUR B...|      32|01/12/10 08:34|     1.69|     13047|United Kingdom|\n",
            "+---------+---------+--------------------+--------+--------------+---------+----------+--------------+\n",
            "only showing top 10 rows\n",
            "\n"
          ]
        }
      ]
    },
    {
      "cell_type": "code",
      "source": [],
      "metadata": {
        "id": "04MUICmmauq4"
      },
      "execution_count": null,
      "outputs": []
    }
  ]
}